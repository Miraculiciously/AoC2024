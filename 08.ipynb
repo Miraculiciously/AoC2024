{
 "cells": [
  {
   "cell_type": "markdown",
   "metadata": {},
   "source": [
    "# --- Day 8: Resonant Collinearity ---\n",
    "\n",
    "You find yourselves on the roof of a top-secret Easter Bunny installation.\n",
    "\n",
    "While The Historians do their thing, you take a look at the familiar huge antenna. Much to your surprise, it seems to have been reconfigured to emit a signal that makes people 0.1% more likely to buy Easter Bunny brand Imitation Mediocre Chocolate as a Christmas gift! Unthinkable!\n",
    "\n",
    "Scanning across the city, you find that there are actually many such antennas. Each antenna is tuned to a specific frequency indicated by a single lowercase letter, uppercase letter, or digit. You create a map (your puzzle input) of these antennas. For example:\n",
    "\n",
    "```\n",
    "............\n",
    "........0...\n",
    ".....0......\n",
    ".......0....\n",
    "....0.......\n",
    "......A.....\n",
    "............\n",
    "............\n",
    "........A...\n",
    ".........A..\n",
    "............\n",
    "............\n",
    "```\n",
    "\n",
    "The signal only applies its nefarious effect at specific antinodes based on the resonant frequencies of the antennas. In particular, an antinode occurs at any point that is perfectly in line with two antennas of the same frequency - but only when one of the antennas is twice as far away as the other. This means that for any pair of antennas with the same frequency, there are two antinodes, one on either side of them.\n",
    "\n",
    "So, for these two antennas with frequency a, they create the two antinodes marked with #:\n",
    "\n",
    "```\n",
    "..........\n",
    "...#......\n",
    "..........\n",
    "....a.....\n",
    "..........\n",
    ".....a....\n",
    "..........\n",
    "......#...\n",
    "..........\n",
    "..........\n",
    "```\n",
    "\n",
    "Adding a third antenna with the same frequency creates several more antinodes. It would ideally add four antinodes, but two are off the right side of the map, so instead it adds only two:\n",
    "\n",
    "```\n",
    "..........\n",
    "...#......\n",
    "#.........\n",
    "....a.....\n",
    "........a.\n",
    ".....a....\n",
    "..#.......\n",
    "......#...\n",
    "..........\n",
    "..........\n",
    "```\n",
    "\n",
    "Antennas with different frequencies don't create antinodes; A and a count as different frequencies. However, antinodes can occur at locations that contain antennas. In this diagram, the lone antenna with frequency capital A creates no antinodes but has a lowercase-a-frequency antinode at its location:\n",
    "\n",
    "```\n",
    "..........\n",
    "...#......\n",
    "#.........\n",
    "....a.....\n",
    "........a.\n",
    ".....a....\n",
    "..#.......\n",
    "......A...\n",
    "..........\n",
    "..........\n",
    "```\n",
    "\n",
    "The first example has antennas with two different frequencies, so the antinodes they create look like this, plus an antinode overlapping the topmost A-frequency antenna:\n",
    "\n",
    "```\n",
    "......#....#\n",
    "...#....0...\n",
    "....#0....#.\n",
    "..#....0....\n",
    "....0....#..\n",
    ".#....A.....\n",
    "...#........\n",
    "#......#....\n",
    "........A...\n",
    ".........A..\n",
    "..........#.\n",
    "..........#.\n",
    "```\n",
    "\n",
    "Because the topmost A-frequency antenna overlaps with a 0-frequency antinode, there are `14` total unique locations that contain an antinode within the bounds of the map.\n",
    "\n",
    "Calculate the impact of the signal. How many unique locations within the bounds of the map contain an antinode?"
   ]
  },
  {
   "cell_type": "code",
   "execution_count": null,
   "metadata": {},
   "outputs": [
    {
     "data": {
      "text/plain": [
       "(50, 50)"
      ]
     },
     "execution_count": 29,
     "metadata": {},
     "output_type": "execute_result"
    }
   ],
   "source": [
    "with open('08.txt', 'r') as file:\n",
    "    grid = [list(line.strip()) for line in file.readlines()]\n",
    "\n",
    "rows, cols = len(grid), len(grid[0])\n",
    "\n",
    "rows, cols"
   ]
  },
  {
   "cell_type": "code",
   "execution_count": 30,
   "metadata": {},
   "outputs": [
    {
     "data": {
      "text/plain": [
       "{'0',\n",
       " '1',\n",
       " '2',\n",
       " '3',\n",
       " '4',\n",
       " '5',\n",
       " '6',\n",
       " '7',\n",
       " '8',\n",
       " '9',\n",
       " 'F',\n",
       " 'I',\n",
       " 'J',\n",
       " 'L',\n",
       " 'N',\n",
       " 'O',\n",
       " 'P',\n",
       " 'Q',\n",
       " 'R',\n",
       " 'S',\n",
       " 'U',\n",
       " 'V',\n",
       " 'W',\n",
       " 'X',\n",
       " 'f',\n",
       " 'i',\n",
       " 'j',\n",
       " 'l',\n",
       " 'n',\n",
       " 'o',\n",
       " 'p',\n",
       " 'q',\n",
       " 'r',\n",
       " 's',\n",
       " 'u',\n",
       " 'v',\n",
       " 'w',\n",
       " 'x'}"
      ]
     },
     "execution_count": 30,
     "metadata": {},
     "output_type": "execute_result"
    }
   ],
   "source": [
    "frequencies = set([ grid[x][y] for x in range(rows) for y in range(cols) if grid[x][y] != '.'] )\n",
    "frequencies"
   ]
  },
  {
   "cell_type": "code",
   "execution_count": 31,
   "metadata": {},
   "outputs": [],
   "source": [
    "def is_in_grid(x,y):\n",
    "    return 0 <= x < cols and 0 <= y < rows"
   ]
  },
  {
   "cell_type": "code",
   "execution_count": 43,
   "metadata": {},
   "outputs": [
    {
     "data": {
      "text/plain": [
       "252"
      ]
     },
     "execution_count": 43,
     "metadata": {},
     "output_type": "execute_result"
    }
   ],
   "source": [
    "import numpy as np\n",
    "\n",
    "antinodes = np.zeros((cols, rows), dtype=int)\n",
    "\n",
    "for frequency in frequencies:\n",
    "    positions = [ (x, y) for x in range(rows) for y in range(cols) if grid[x][y] == frequency ]\n",
    "\n",
    "    for i, pos_i in enumerate(positions):\n",
    "        for pos_j in positions[i+1:]:\n",
    "            vector = (pos_i[0] - pos_j[0], pos_i[1] - pos_j[1])\n",
    "\n",
    "            for base_pos, other_pos in [(pos_i, pos_j), (pos_j, pos_i)]:\n",
    "                for sign in [-1, 1]:\n",
    "                    new_pos = (base_pos[0] + sign * vector[0], base_pos[1] + sign * vector[1])\n",
    "                    if is_in_grid(new_pos[0],new_pos[1] ) and not np.array_equal(new_pos, other_pos):\n",
    "                        antinodes[new_pos[0], new_pos[1]] = 1\n",
    "\n",
    "np.sum(antinodes)"
   ]
  },
  {
   "cell_type": "markdown",
   "metadata": {
    "vscode": {
     "languageId": "raw"
    }
   },
   "source": [
    "## --- Part Two ---\n",
    "\n",
    "Watching over your shoulder as you work, one of The Historians asks if you took the effects of resonant harmonics into your calculations.\n",
    "\n",
    "Whoops!\n",
    "\n",
    "After updating your model, it turns out that an antinode occurs at any grid position exactly in line with at least two antennas of the same frequency, regardless of distance. This means that some of the new antinodes will occur at the position of each antenna (unless that antenna is the only one of its frequency).\n",
    "\n",
    "So, these three T-frequency antennas now create many antinodes:\n",
    "\n",
    "```\n",
    "T....#....\n",
    "...T......\n",
    ".T....#...\n",
    ".........#\n",
    "..#.......\n",
    "..........\n",
    "...#......\n",
    "..........\n",
    "....#.....\n",
    "..........\n",
    "```\n",
    "\n",
    "In fact, the three T-frequency antennas are all exactly in line with two antennas, so they are all also antinodes! This brings the total number of antinodes in the above example to `9`.\n",
    "\n",
    "The original example now has `34` antinodes, including the antinodes that appear on every antenna:\n",
    "\n",
    "```\n",
    "##....#....#\n",
    ".#.#....0...\n",
    "..#.#0....#.\n",
    "..##...0....\n",
    "....0....#..\n",
    ".#...#A....#\n",
    "...#..#.....\n",
    "#....#.#....\n",
    "..#.....A...\n",
    "....#....A..\n",
    ".#........#.\n",
    "...#......##\n",
    "```\n",
    "\n",
    "Calculate the impact of the signal using this updated model. How many unique locations within the bounds of the map contain an antinode?"
   ]
  },
  {
   "cell_type": "code",
   "execution_count": null,
   "metadata": {},
   "outputs": [
    {
     "data": {
      "text/plain": [
       "839"
      ]
     },
     "execution_count": 61,
     "metadata": {},
     "output_type": "execute_result"
    }
   ],
   "source": [
    "antinodes = np.zeros((cols, rows), dtype=int)\n",
    "\n",
    "for frequency in frequencies:\n",
    "    positions = [ (x, y) for x in range(rows) for y in range(cols) if grid[x][y] == frequency ]\n",
    "\n",
    "    for i, pos_i in enumerate(positions):\n",
    "        for pos_j in positions[i+1:]:\n",
    "            vector = (pos_i[0] - pos_j[0], pos_i[1] - pos_j[1])\n",
    "            \n",
    "            for sign in [-1, 1]:\n",
    "                for scale in range(cols):\n",
    "\n",
    "                    new_pos = (pos_i[0] + sign * scale * vector[0], pos_i[1] + sign * scale * vector[1])\n",
    "                    if is_in_grid(new_pos[0],new_pos[1] ) : # just check if it's in grid because the antinode can be on every antenna too\n",
    "                        antinodes[new_pos[0], new_pos[1]] = 1\n",
    "                    else:\n",
    "                        continue # abort scaling\n",
    "\n",
    "np.sum(antinodes)"
   ]
  },
  {
   "cell_type": "code",
   "execution_count": null,
   "metadata": {},
   "outputs": [],
   "source": []
  }
 ],
 "metadata": {
  "kernelspec": {
   "display_name": "Python 3",
   "language": "python",
   "name": "python3"
  },
  "language_info": {
   "codemirror_mode": {
    "name": "ipython",
    "version": 3
   },
   "file_extension": ".py",
   "mimetype": "text/x-python",
   "name": "python",
   "nbconvert_exporter": "python",
   "pygments_lexer": "ipython3",
   "version": "3.11.2"
  }
 },
 "nbformat": 4,
 "nbformat_minor": 2
}
