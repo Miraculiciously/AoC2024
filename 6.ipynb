{
 "cells": [
  {
   "cell_type": "markdown",
   "metadata": {},
   "source": [
    "--- Day 6: Guard Gallivant ---\n",
    "The Historians use their fancy device again, this time to whisk you all away to the North Pole prototype suit manufacturing lab... in the year 1518! It turns out that having direct access to history is very convenient for a group of historians.\n",
    "\n",
    "You still have to be careful of time paradoxes, and so it will be important to avoid anyone from 1518 while The Historians search for the Chief. Unfortunately, a single guard is patrolling this part of the lab.\n",
    "\n",
    "Maybe you can work out where the guard will go ahead of time so that The Historians can search safely?\n",
    "\n",
    "You start by making a map (your puzzle input) of the situation. For example:\n",
    "\n",
    "....#.....\n",
    ".........#\n",
    "..........\n",
    "..#.......\n",
    ".......#..\n",
    "..........\n",
    ".#..^.....\n",
    "........#.\n",
    "#.........\n",
    "......#...\n",
    "The map shows the current position of the guard with ^ (to indicate the guard is currently facing up from the perspective of the map). Any obstructions - crates, desks, alchemical reactors, etc. - are shown as #.\n",
    "\n",
    "Lab guards in 1518 follow a very strict patrol protocol which involves repeatedly following these steps:\n",
    "\n",
    "If there is something directly in front of you, turn right 90 degrees.\n",
    "Otherwise, take a step forward.\n",
    "Following the above protocol, the guard moves up several times until she reaches an obstacle (in this case, a pile of failed suit prototypes):\n",
    "\n",
    "....#.....\n",
    "....^....#\n",
    "..........\n",
    "..#.......\n",
    ".......#..\n",
    "..........\n",
    ".#........\n",
    "........#.\n",
    "#.........\n",
    "......#...\n",
    "Because there is now an obstacle in front of the guard, she turns right before continuing straight in her new facing direction:\n",
    "\n",
    "....#.....\n",
    "........>#\n",
    "..........\n",
    "..#.......\n",
    ".......#..\n",
    "..........\n",
    ".#........\n",
    "........#.\n",
    "#.........\n",
    "......#...\n",
    "Reaching another obstacle (a spool of several very long polymers), she turns right again and continues downward:\n",
    "\n",
    "....#.....\n",
    ".........#\n",
    "..........\n",
    "..#.......\n",
    ".......#..\n",
    "..........\n",
    ".#......v.\n",
    "........#.\n",
    "#.........\n",
    "......#...\n",
    "This process continues for a while, but the guard eventually leaves the mapped area (after walking past a tank of universal solvent):\n",
    "\n",
    "....#.....\n",
    ".........#\n",
    "..........\n",
    "..#.......\n",
    ".......#..\n",
    "..........\n",
    ".#........\n",
    "........#.\n",
    "#.........\n",
    "......#v..\n",
    "By predicting the guard's route, you can determine which specific positions in the lab will be in the patrol path. Including the guard's starting position, the positions visited by the guard before leaving the area are marked with an X:\n",
    "\n",
    "....#.....\n",
    "....XXXXX#\n",
    "....X...X.\n",
    "..#.X...X.\n",
    "..XXXXX#X.\n",
    "..X.X.X.X.\n",
    ".#XXXXXXX.\n",
    ".XXXXXXX#.\n",
    "#XXXXXXX..\n",
    "......#X..\n",
    "In this example, the guard will visit 41 distinct positions on your map.\n",
    "\n",
    "Predict the path of the guard. How many distinct positions will the guard visit before leaving the mapped area?"
   ]
  },
  {
   "cell_type": "markdown",
   "metadata": {},
   "source": [
    "# 1"
   ]
  },
  {
   "cell_type": "code",
   "execution_count": 1,
   "metadata": {},
   "outputs": [
    {
     "data": {
      "text/plain": [
       "(130, 130)"
      ]
     },
     "execution_count": 1,
     "metadata": {},
     "output_type": "execute_result"
    }
   ],
   "source": [
    "with open('6.txt', 'r') as file:\n",
    "    grid = [list(line.strip()) for line in file.readlines()]\n",
    "\n",
    "rows, cols = len(grid), len(grid[0])\n",
    "rows, cols"
   ]
  },
  {
   "cell_type": "code",
   "execution_count": 2,
   "metadata": {},
   "outputs": [],
   "source": [
    "def is_in_grid(x,y):\n",
    "    return 0 <= x < cols and 0 <= y < rows\n",
    "\n",
    "def add_pos(a,b): # adding tuples is a nuisance, so here we go with this...\n",
    "    return tuple(a + b for a, b in zip(a, b))"
   ]
  },
  {
   "cell_type": "code",
   "execution_count": 3,
   "metadata": {},
   "outputs": [
    {
     "data": {
      "text/plain": [
       "(90, 66)"
      ]
     },
     "execution_count": 3,
     "metadata": {},
     "output_type": "execute_result"
    }
   ],
   "source": [
    "starting_position = [ (x,y) for x in range(rows) for y in range(cols) if grid[x][y] == '^'][0]\n",
    "starting_position"
   ]
  },
  {
   "cell_type": "code",
   "execution_count": 4,
   "metadata": {},
   "outputs": [
    {
     "data": {
      "text/plain": [
       "(-1, 0)"
      ]
     },
     "execution_count": 4,
     "metadata": {},
     "output_type": "execute_result"
    }
   ],
   "source": [
    "def direction(i):  # Define right-angle turn through increment\n",
    "    # Order: up, right, down, left\n",
    "    lookup_x = [-1, 0, 1, 0]\n",
    "    lookup_y = [0, 1, 0, -1]\n",
    "    return (lookup_x[i % 4], lookup_y[i % 4])\n",
    "\n",
    "i = 0\n",
    "direction(i) # make sure we're going up first: decreasing row, keep column"
   ]
  },
  {
   "cell_type": "code",
   "execution_count": 5,
   "metadata": {},
   "outputs": [],
   "source": [
    "position = starting_position\n",
    "next_step = add_pos(position, direction(i))\n",
    "visited_positions = {position}\n",
    "\n",
    "while is_in_grid(*next_step):\n",
    "    if grid[next_step[0]][next_step[1]] == \"#\":  # Obstacle ahead\n",
    "        i += 1  # Turn right, position stays the same\n",
    "    else:\n",
    "        # Mark current position as visited\n",
    "        # grid[next_step[0]][next_step[1]] = \"X\"\n",
    "        visited_positions.add(next_step)  # Mark as visited\n",
    "        position = next_step  # Move to the next step\n",
    "\n",
    "    # Update the next step for the next iteration\n",
    "    next_step = add_pos(position, direction(i))\n",
    "\n",
    "# Mark the final position before leaving the grid\n",
    "# grid[position[0]][position[1]] = \"X\""
   ]
  },
  {
   "cell_type": "code",
   "execution_count": 6,
   "metadata": {},
   "outputs": [
    {
     "data": {
      "text/plain": [
       "5086"
      ]
     },
     "execution_count": 6,
     "metadata": {},
     "output_type": "execute_result"
    }
   ],
   "source": [
    "len(visited_positions)"
   ]
  },
  {
   "cell_type": "markdown",
   "metadata": {},
   "source": [
    "--- Part Two ---\n",
    "While The Historians begin working around the guard's patrol route, you borrow their fancy device and step outside the lab. From the safety of a supply closet, you time travel through the last few months and record the nightly status of the lab's guard post on the walls of the closet.\n",
    "\n",
    "Returning after what seems like only a few seconds to The Historians, they explain that the guard's patrol area is simply too large for them to safely search the lab without getting caught.\n",
    "\n",
    "Fortunately, they are pretty sure that adding a single new obstruction won't cause a time paradox. They'd like to place the new obstruction in such a way that the guard will get stuck in a loop, making the rest of the lab safe to search.\n",
    "\n",
    "To have the lowest chance of creating a time paradox, The Historians would like to know all of the possible positions for such an obstruction. The new obstruction can't be placed at the guard's starting position - the guard is there right now and would notice.\n",
    "\n",
    "In the above example, there are only 6 different positions where a new obstruction would cause the guard to get stuck in a loop. The diagrams of these six situations use O to mark the new obstruction, | to show a position where the guard moves up/down, - to show a position where the guard moves left/right, and + to show a position where the guard moves both up/down and left/right.\n",
    "\n",
    "Option one, put a printing press next to the guard's starting position:\n",
    "\n",
    "....#.....\n",
    "....+---+#\n",
    "....|...|.\n",
    "..#.|...|.\n",
    "....|..#|.\n",
    "....|...|.\n",
    ".#.O^---+.\n",
    "........#.\n",
    "#.........\n",
    "......#...\n",
    "Option two, put a stack of failed suit prototypes in the bottom right quadrant of the mapped area:\n",
    "\n",
    "\n",
    "....#.....\n",
    "....+---+#\n",
    "....|...|.\n",
    "..#.|...|.\n",
    "..+-+-+#|.\n",
    "..|.|.|.|.\n",
    ".#+-^-+-+.\n",
    "......O.#.\n",
    "#.........\n",
    "......#...\n",
    "Option three, put a crate of chimney-squeeze prototype fabric next to the standing desk in the bottom right quadrant:\n",
    "\n",
    "....#.....\n",
    "....+---+#\n",
    "....|...|.\n",
    "..#.|...|.\n",
    "..+-+-+#|.\n",
    "..|.|.|.|.\n",
    ".#+-^-+-+.\n",
    ".+----+O#.\n",
    "#+----+...\n",
    "......#...\n",
    "Option four, put an alchemical retroencabulator near the bottom left corner:\n",
    "\n",
    "....#.....\n",
    "....+---+#\n",
    "....|...|.\n",
    "..#.|...|.\n",
    "..+-+-+#|.\n",
    "..|.|.|.|.\n",
    ".#+-^-+-+.\n",
    "..|...|.#.\n",
    "#O+---+...\n",
    "......#...\n",
    "Option five, put the alchemical retroencabulator a bit to the right instead:\n",
    "\n",
    "....#.....\n",
    "....+---+#\n",
    "....|...|.\n",
    "..#.|...|.\n",
    "..+-+-+#|.\n",
    "..|.|.|.|.\n",
    ".#+-^-+-+.\n",
    "....|.|.#.\n",
    "#..O+-+...\n",
    "......#...\n",
    "Option six, put a tank of sovereign glue right next to the tank of universal solvent:\n",
    "\n",
    "....#.....\n",
    "....+---+#\n",
    "....|...|.\n",
    "..#.|...|.\n",
    "..+-+-+#|.\n",
    "..|.|.|.|.\n",
    ".#+-^-+-+.\n",
    ".+----++#.\n",
    "#+----++..\n",
    "......#O..\n",
    "It doesn't really matter what you choose to use as an obstacle so long as you and The Historians can put it into position without the guard noticing. The important thing is having enough options that you can find one that minimizes time paradoxes, and in this example, there are 6 different positions you could choose.\n",
    "\n",
    "You need to get the guard stuck in a loop by adding a single new obstruction. How many different positions could you choose for this obstruction?"
   ]
  },
  {
   "cell_type": "markdown",
   "metadata": {},
   "source": [
    "# 2"
   ]
  },
  {
   "cell_type": "code",
   "execution_count": 7,
   "metadata": {},
   "outputs": [],
   "source": [
    "from tqdm import tqdm # we go brute force\n",
    "\n",
    "potential_obstructions = { (x, y) for x in range(rows) for y in range(cols) if grid[x][y] == '.' }\n",
    "valid_obstructions = set()"
   ]
  },
  {
   "cell_type": "code",
   "execution_count": 8,
   "metadata": {},
   "outputs": [
    {
     "name": "stderr",
     "output_type": "stream",
     "text": [
      "100%|██████████| 16073/16073 [01:48<00:00, 148.34it/s]\n"
     ]
    }
   ],
   "source": [
    "for potential_obstruction in tqdm(potential_obstructions):\n",
    "    position = starting_position\n",
    "    i = 0\n",
    "    next_step = add_pos(position, direction(i))\n",
    "    visited = set()\n",
    "\n",
    "    # Place obstruction\n",
    "    grid[potential_obstruction[0]][potential_obstruction[1]] = \"#\"\n",
    "\n",
    "    while is_in_grid(*next_step):\n",
    "        state = (position, i)\n",
    "        if state in visited:\n",
    "            # Loop detected\n",
    "            valid_obstructions.add(potential_obstruction)\n",
    "            break\n",
    "        visited.add(state)\n",
    "\n",
    "        if grid[next_step[0]][next_step[1]] == \"#\":\n",
    "            i = (i + 1) % 4  # Turn right\n",
    "        else:\n",
    "            position = next_step\n",
    "\n",
    "        next_step = add_pos(position, direction(i))  # Always update next_step\n",
    "\n",
    "    # Reset obstruction\n",
    "    grid[potential_obstruction[0]][potential_obstruction[1]] = \".\""
   ]
  },
  {
   "cell_type": "code",
   "execution_count": 9,
   "metadata": {},
   "outputs": [
    {
     "data": {
      "text/plain": [
       "1770"
      ]
     },
     "execution_count": 9,
     "metadata": {},
     "output_type": "execute_result"
    }
   ],
   "source": [
    "# In the end, get how many valid obstructions there are\n",
    "len(valid_obstructions)"
   ]
  }
 ],
 "metadata": {
  "kernelspec": {
   "display_name": "Python 3",
   "language": "python",
   "name": "python3"
  },
  "language_info": {
   "codemirror_mode": {
    "name": "ipython",
    "version": 3
   },
   "file_extension": ".py",
   "mimetype": "text/x-python",
   "name": "python",
   "nbconvert_exporter": "python",
   "pygments_lexer": "ipython3",
   "version": "3.11.2"
  }
 },
 "nbformat": 4,
 "nbformat_minor": 2
}
