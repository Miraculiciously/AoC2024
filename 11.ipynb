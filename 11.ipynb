{
 "cells": [
  {
   "cell_type": "markdown",
   "metadata": {
    "vscode": {
     "languageId": "raw"
    }
   },
   "source": [
    "# --- Day 11: Plutonian Pebbles ---\n",
    "\n",
    "The ancient civilization on Pluto was known for its ability to manipulate spacetime, and while The Historians explore their infinite corridors, you've noticed a strange set of physics-defying stones.\n",
    "\n",
    "At first glance, they seem like normal stones: they're arranged in a perfectly straight line, and each stone has a number engraved on it.\n",
    "\n",
    "The strange part is that every time you blink, the stones change.\n",
    "\n",
    "Sometimes, the number engraved on a stone changes. Other times, a stone might split in two, causing all the other stones to shift over a bit to make room in their perfectly straight line.\n",
    "\n",
    "As you observe them for a while, you find that the stones have a consistent behavior. Every time you blink, the stones each simultaneously change according to the first applicable rule in this list:\n",
    "\n",
    "- If the stone is engraved with the number `0`, it is replaced by a stone engraved with the number `1`.\n",
    "- If the stone is engraved with a number that has an even number of digits, it is replaced by two stones. The left half of the digits are engraved on the new left stone, and the right half of the digits are engraved on the new right stone. (The new numbers don't keep extra leading zeroes: `1000` would become stones `10` and `0`.)\n",
    "- If none of the other rules apply, the stone is replaced by a new stone; the old stone's number multiplied by `2024` is engraved on the new stone.\n",
    "\n",
    "No matter how the stones change, their order is preserved, and they stay on their perfectly straight line.\n",
    "\n",
    "How will the stones evolve if you keep blinking at them? You take a note of the number engraved on each stone in the line (your puzzle input).\n",
    "\n",
    "If you have an arrangement of five stones engraved with the numbers `0 1 10 99 999` and you blink once, the stones transform as follows:\n",
    "\n",
    "- The first stone, `0`, becomes a stone marked `1`.\n",
    "- The second stone, `1`, is multiplied by `2024` to become `2024`.\n",
    "- The third stone, `10`, is split into a stone marked `1` followed by a stone marked `0`.\n",
    "- The fourth stone, `99`, is split into two stones marked `9`.\n",
    "- The fifth stone, `999`, is replaced by a stone marked `2021976`.\n",
    "\n",
    "So, after blinking once, your five stones would become an arrangement of seven stones engraved with the numbers `1 2024 1 0 9 9 2021976`.\n",
    "\n",
    "Here is a longer example:\n",
    "\n",
    "```\n",
    "Initial arrangement:\n",
    "125 17\n",
    "\n",
    "After 1 blink:\n",
    "253000 1 7\n",
    "\n",
    "After 2 blinks:\n",
    "253 0 2024 14168\n",
    "\n",
    "After 3 blinks:\n",
    "512072 1 20 24 28676032\n",
    "\n",
    "After 4 blinks:\n",
    "512 72 2024 2 0 2 4 2867 6032\n",
    "\n",
    "After 5 blinks:\n",
    "1036288 7 2 20 24 4048 1 4048 8096 28 67 60 32\n",
    "\n",
    "After 6 blinks:\n",
    "2097446912 14168 4048 2 0 2 4 40 48 2024 40 48 80 96 2 8 6 7 6 0 3 2\n",
    "```\n",
    "\n",
    "In this example, after blinking six times, you would have `22` stones. After blinking 25 times, you would have `55312` stones!\n",
    "\n",
    "Consider the arrangement of stones in front of you. How many stones will you have after blinking 25 times?"
   ]
  },
  {
   "cell_type": "code",
   "execution_count": 9,
   "metadata": {},
   "outputs": [
    {
     "data": {
      "text/plain": [
       "['4', '4841539', '66', '5279', '49207', '134', '609568', '0']"
      ]
     },
     "execution_count": 9,
     "metadata": {},
     "output_type": "execute_result"
    }
   ],
   "source": [
    "with open('11.txt', 'r') as file:\n",
    "    stones = list(file.readlines()[0].split()) \n",
    "\n",
    "stones"
   ]
  },
  {
   "cell_type": "code",
   "execution_count": 10,
   "metadata": {},
   "outputs": [
    {
     "data": {
      "text/plain": [
       "['1', '2024', '1', '0', '9', '9', '2021976']"
      ]
     },
     "execution_count": 10,
     "metadata": {},
     "output_type": "execute_result"
    }
   ],
   "source": [
    "test_stones_1 = ['0', '1', '10', '99', '999']\n",
    "\n",
    "def blink_once(the_stones):\n",
    "    new_stones = []\n",
    "    for the_stone in the_stones:\n",
    "\n",
    "        if the_stone == \"0\":\n",
    "            new_stones.append(\"1\")\n",
    "        elif len(the_stone) % 2 == 0:\n",
    "            half_length = len(f\"{the_stone}\")//2\n",
    "\n",
    "            # left half\n",
    "            new_stones.append(str(int(f\"{the_stone}\"[:half_length])))\n",
    "\n",
    "            # right half\n",
    "            new_stones.append(str(int(f\"{the_stone}\"[half_length:])))\n",
    "\n",
    "        else:\n",
    "            new_stones.append(str(int(f\"{the_stone}\")*2024) )\n",
    "\n",
    "    return new_stones\n",
    "    \n",
    "blink_once(test_stones_1) # should give ['1', '2024', '1', '0', '9', '9', '2021976']"
   ]
  },
  {
   "cell_type": "code",
   "execution_count": 11,
   "metadata": {},
   "outputs": [
    {
     "data": {
      "text/plain": [
       "['1', '2024', '1', '0', '9', '9', '2021976']"
      ]
     },
     "execution_count": 11,
     "metadata": {},
     "output_type": "execute_result"
    }
   ],
   "source": [
    "def blink_n_times(the_stones, n):\n",
    "    for _ in range(n):\n",
    "        the_stones = blink_once(the_stones)\n",
    "    return the_stones\n",
    "\n",
    "blink_n_times(test_stones_1, 1)"
   ]
  },
  {
   "cell_type": "code",
   "execution_count": 12,
   "metadata": {},
   "outputs": [
    {
     "data": {
      "text/plain": [
       "['2097446912',\n",
       " '14168',\n",
       " '4048',\n",
       " '2',\n",
       " '0',\n",
       " '2',\n",
       " '4',\n",
       " '40',\n",
       " '48',\n",
       " '2024',\n",
       " '40',\n",
       " '48',\n",
       " '80',\n",
       " '96',\n",
       " '2',\n",
       " '8',\n",
       " '6',\n",
       " '7',\n",
       " '6',\n",
       " '0',\n",
       " '3',\n",
       " '2']"
      ]
     },
     "execution_count": 12,
     "metadata": {},
     "output_type": "execute_result"
    }
   ],
   "source": [
    "test_stones_2 = ['125', '17']\n",
    "\n",
    "blink_n_times(test_stones_2, 6)"
   ]
  },
  {
   "cell_type": "code",
   "execution_count": 13,
   "metadata": {},
   "outputs": [
    {
     "name": "stdout",
     "output_type": "stream",
     "text": [
      "212655\n",
      "Took 0.1817340850830078 seconds\n"
     ]
    }
   ],
   "source": [
    "import time\n",
    "\n",
    "start = time.time()\n",
    "result = len(blink_n_times(stones, 25))\n",
    "end = time.time()\n",
    "print(result)\n",
    "print(f\"Took {end - start} seconds\")"
   ]
  },
  {
   "cell_type": "markdown",
   "metadata": {
    "vscode": {
     "languageId": "raw"
    }
   },
   "source": [
    "## --- Part Two ---\n",
    "\n",
    "The Historians sure are taking a long time. To be fair, the infinite corridors are very large.\n",
    "\n",
    "How many stones would you have after blinking a total of 75 times?"
   ]
  },
  {
   "cell_type": "code",
   "execution_count": null,
   "metadata": {},
   "outputs": [],
   "source": [
    "# Blink the individual stone one single time\n",
    "def blink(the_stone: str):\n",
    "    if the_stone == \"0\":\n",
    "        return [\"1\"]\n",
    "    elif len(the_stone) % 2 == 0:\n",
    "        half_length = len(the_stone) // 2\n",
    "        left_half = str(int(the_stone[:half_length]))\n",
    "        right_half = str(int(the_stone[half_length:]))\n",
    "        return [ left_half, right_half ]\n",
    "    else:\n",
    "        return [str(int(the_stone) * 2024)]"
   ]
  },
  {
   "cell_type": "code",
   "execution_count": null,
   "metadata": {},
   "outputs": [],
   "source": [
    "import functools \n",
    "\n",
    "# Thanks Jakub for this hint !\n",
    "@functools.lru_cache(maxsize=100000)\n",
    "def count_stones(stone, blinks):\n",
    "    if blinks == 0:\n",
    "        return 1\n",
    "    return sum([count_stones(stone, blinks - 1) for stone in blink(stone)])"
   ]
  },
  {
   "cell_type": "code",
   "execution_count": null,
   "metadata": {},
   "outputs": [
    {
     "name": "stdout",
     "output_type": "stream",
     "text": [
      "253582809724830\n",
      "Took 0.2212975025177002 seconds\n"
     ]
    }
   ],
   "source": [
    "start = time.time()\n",
    "result = sum([count_stones(stone, 75) for stone in stones])\n",
    "end = time.time()\n",
    "print(result)\n",
    "print(f\"Took {end - start} seconds\")"
   ]
  },
  {
   "cell_type": "code",
   "execution_count": null,
   "metadata": {},
   "outputs": [],
   "source": []
  }
 ],
 "metadata": {
  "kernelspec": {
   "display_name": "Python 3",
   "language": "python",
   "name": "python3"
  },
  "language_info": {
   "codemirror_mode": {
    "name": "ipython",
    "version": 3
   },
   "file_extension": ".py",
   "mimetype": "text/x-python",
   "name": "python",
   "nbconvert_exporter": "python",
   "pygments_lexer": "ipython3",
   "version": "3.11.2"
  }
 },
 "nbformat": 4,
 "nbformat_minor": 2
}
